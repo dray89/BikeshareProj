{
 "cells": [
  {
   "cell_type": "markdown",
   "id": "cd3960cd-91c4-49ae-9629-dd954ba2d4e6",
   "metadata": {},
   "source": [
    "## MS SQL Server Stored Procedures, Functions, and Dates"
   ]
  },
  {
   "cell_type": "markdown",
   "id": "ed85c381-3154-4793-a4af-7d5ec0a17905",
   "metadata": {},
   "source": [
    "#### Which day of the week is the busiest?"
   ]
  },
  {
   "cell_type": "code",
   "execution_count": null,
   "id": "5a848edf-d69f-4e77-82a6-7df4952a8050",
   "metadata": {},
   "outputs": [],
   "source": [
    "SELECT\n",
    "    -- Select the day of week value for StartDate\n",
    "\tDATENAME(weekday, StartDate) as DayOfWeek,\n",
    "    -- Calculate TotalTripHours\n",
    "\tSUM(DATEDIFF(second, StartDate, EndDate))/ 3600 as TotalTripHours \n",
    "FROM CapitalBikeShare \n",
    "-- Group by the day of week\n",
    "GROUP BY DATENAME(weekday, StartDate)\n",
    "-- Order TotalTripHours in descending order\n",
    "ORDER BY TotalTripHours DESC"
   ]
  },
  {
   "cell_type": "markdown",
   "id": "15561131-7fa1-49d1-8832-777b89e0afac",
   "metadata": {},
   "source": [
    "#### Saturday is pretty busy, Let's look for outliers:"
   ]
  },
  {
   "cell_type": "code",
   "execution_count": 2,
   "id": "b084260a-b1d5-42fa-972b-d7b5a62e8b5f",
   "metadata": {},
   "outputs": [
    {
     "ename": "IndentationError",
     "evalue": "unindent does not match any outer indentation level (<tokenize>, line 4)",
     "output_type": "error",
     "traceback": [
      "\u001b[0;36m  File \u001b[0;32m\"<tokenize>\"\u001b[0;36m, line \u001b[0;32m4\u001b[0m\n\u001b[0;31m    -- Select the DATE portion of StartDate\u001b[0m\n\u001b[0m    ^\u001b[0m\n\u001b[0;31mIndentationError\u001b[0m\u001b[0;31m:\u001b[0m unindent does not match any outer indentation level\n"
     ]
    }
   ],
   "source": [
    "SELECT\n",
    "\t-- Calculate TotalRideHours using SUM() and DATEDIFF()\n",
    "  \tSUM(DATEDIFF(SECOND, StartDate, EndDate))/ 3600 AS TotalRideHours,\n",
    "    -- Select the DATE portion of StartDate\n",
    "  \tCONVERT(DATE, StartDate) AS DateOnly,\n",
    "    -- Select the WEEKDAY\n",
    "  \tDATENAME(WEEKDAY, CONVERT(DATE, StartDate)) AS DayOfWeek \n",
    "FROM CapitalBikeShare\n",
    "-- Only include Saturday\n",
    "WHERE DATENAME(WEEKDAY, CONVERT(DATE, StartDate)) = 'Saturday' \n",
    "GROUP BY CONVERT(DATE, StartDate);"
   ]
  },
  {
   "cell_type": "markdown",
   "id": "6f04c295-b9f4-42a0-ab76-c55c0f126232",
   "metadata": {},
   "source": [
    "#### How to Declare values and set values"
   ]
  },
  {
   "cell_type": "code",
   "execution_count": null,
   "id": "ad076179-71b3-4c4a-a535-1a6c8b655da1",
   "metadata": {},
   "outputs": [],
   "source": [
    "-- Create @ShiftStartTime\n",
    "DECLARE @ShiftStartTime AS time = '08:00 AM'\n",
    "\n",
    "-- Create @StartDate\n",
    "DECLARE @StartDate AS date\n",
    "\n",
    "-- Set StartDate to the first StartDate from CapitalBikeShare\n",
    "SET \n",
    "\t@StartDate = (\n",
    "    \tSELECT TOP 1 StartDate \n",
    "    \tFROM CapitalBikeShare \n",
    "    \tORDER BY StartDate ASC\n",
    "\t\t)\n",
    "\n",
    "-- Create ShiftStartDateTime\n",
    "DECLARE @ShiftStartDateTime AS datetime\n",
    "\n",
    "-- Cast StartDate and ShiftStartTime to datetime data types\n",
    "SET @ShiftStartDateTime = CAST(@StartDate AS datetime) + CAST(@ShiftStartTime AS datetime) \n",
    "\n",
    "SELECT @ShiftStartDateTime"
   ]
  },
  {
   "cell_type": "markdown",
   "id": "b968ee05-4f12-4cb3-9793-9cb804965472",
   "metadata": {
    "tags": []
   },
   "source": [
    "#### DECLARE A TABLE AND STORE VALUES WITHIN "
   ]
  },
  {
   "cell_type": "code",
   "execution_count": null,
   "id": "1e980a72-9801-4241-97c6-67ba776c45cb",
   "metadata": {},
   "outputs": [],
   "source": [
    "-- Declare @Shifts as a TABLE\n",
    "Declare @Shifts TABLE(\n",
    "    -- Create StartDateTime column\n",
    "\tStartDateTime datetime,\n",
    "    -- Create EndDateTime column\n",
    "\tEndDateTime datetime)\n",
    "-- Populate @Shifts\n",
    "INSERT INTO @Shifts (StartDateTime, EndDateTime)\n",
    "\tSELECT '3/1/2018 8:00 AM', '3/1/2018 4:00 PM'\n",
    "SELECT * \n",
    "FROM @Shifts"
   ]
  },
  {
   "cell_type": "markdown",
   "id": "891caf0a-7370-4fe0-aea3-5f045f153c48",
   "metadata": {},
   "source": [
    "#### INSERT INTO @TABLE"
   ]
  },
  {
   "cell_type": "code",
   "execution_count": null,
   "id": "07379f08-7acc-4295-b47b-9912feab796f",
   "metadata": {},
   "outputs": [],
   "source": [
    "-- Declare @RideDates\n",
    "DECLARE @RideDates TABLE(\n",
    "    -- Create RideStart\n",
    "\tRideStart date,\n",
    "    -- Create RideEnd\n",
    "\tRideEnd date)\n",
    "-- Populate @RideDates\n",
    "INSERT INTO @RideDates(RideStart, RideEnd)\n",
    "-- Select the unique date values of StartDate and EndDate\n",
    "SELECT DISTINCT\n",
    "    -- Cast StartDate as date\n",
    "\tCAST(StartDate as date),\n",
    "    -- Cast EndDate as date\n",
    "\tCAST(EndDate as date) \n",
    "FROM CapitalBikeShare \n",
    "SELECT * \n",
    "FROM @RideDates"
   ]
  },
  {
   "cell_type": "markdown",
   "id": "45ecdc8c-a61b-4125-9b6a-46f1578bce6d",
   "metadata": {},
   "source": [
    "#### Get the difference in months between now and 1/1/1900. Add zero to that number"
   ]
  },
  {
   "cell_type": "code",
   "execution_count": null,
   "id": "aede19d5-2dde-48ac-8409-79bbe14fd551",
   "metadata": {},
   "outputs": [],
   "source": [
    "SELECT DATEADD(month, datediff(month, 0, GETDATE()),0 )"
   ]
  },
  {
   "cell_type": "code",
   "execution_count": null,
   "id": "26a7511d-18fd-4126-bfda-cf34bc5ebb2a",
   "metadata": {},
   "outputs": [],
   "source": []
  }
 ],
 "metadata": {
  "kernelspec": {
   "display_name": "Python 3 (ipykernel)",
   "language": "python",
   "name": "python3"
  },
  "language_info": {
   "codemirror_mode": {
    "name": "ipython",
    "version": 3
   },
   "file_extension": ".py",
   "mimetype": "text/x-python",
   "name": "python",
   "nbconvert_exporter": "python",
   "pygments_lexer": "ipython3",
   "version": "3.9.7"
  }
 },
 "nbformat": 4,
 "nbformat_minor": 5
}
