{
 "cells": [
  {
   "cell_type": "markdown",
   "id": "cd3960cd-91c4-49ae-9629-dd954ba2d4e6",
   "metadata": {},
   "source": [
    "## MS SQL Server Stored Procedures, Functions, and Dates"
   ]
  },
  {
   "cell_type": "markdown",
   "id": "ed85c381-3154-4793-a4af-7d5ec0a17905",
   "metadata": {},
   "source": [
    "#### Which day of the week is the busiest?"
   ]
  },
  {
   "cell_type": "code",
   "execution_count": null,
   "id": "5a848edf-d69f-4e77-82a6-7df4952a8050",
   "metadata": {},
   "outputs": [],
   "source": [
    "SELECT\n",
    "    -- Select the day of week value for StartDate\n",
    "\tDATENAME(weekday, StartDate) as DayOfWeek,\n",
    "    -- Calculate TotalTripHours\n",
    "\tSUM(DATEDIFF(second, StartDate, EndDate))/ 3600 as TotalTripHours \n",
    "FROM CapitalBikeShare \n",
    "-- Group by the day of week\n",
    "GROUP BY DATENAME(weekday, StartDate)\n",
    "-- Order TotalTripHours in descending order\n",
    "ORDER BY TotalTripHours DESC"
   ]
  },
  {
   "cell_type": "markdown",
   "id": "15561131-7fa1-49d1-8832-777b89e0afac",
   "metadata": {},
   "source": [
    "#### Saturday is pretty busy, Let's look for outliers:"
   ]
  },
  {
   "cell_type": "code",
   "execution_count": null,
   "id": "b084260a-b1d5-42fa-972b-d7b5a62e8b5f",
   "metadata": {},
   "outputs": [],
   "source": [
    "SELECT\n",
    "\t-- Calculate TotalRideHours using SUM() and DATEDIFF()\n",
    "  \tSUM(DATEDIFF(SECOND, StartDate, EndDate))/ 3600 AS TotalRideHours,\n",
    "    -- Select the DATE portion of StartDate\n",
    "  \tCONVERT(DATE, StartDate) AS DateOnly,\n",
    "    -- Select the WEEKDAY\n",
    "  \tDATENAME(WEEKDAY, CONVERT(DATE, StartDate)) AS DayOfWeek \n",
    "FROM CapitalBikeShare\n",
    "-- Only include Saturday\n",
    "WHERE DATENAME(WEEKDAY, CONVERT(DATE, StartDate)) = 'Saturday' \n",
    "GROUP BY CONVERT(DATE, StartDate);"
   ]
  },
  {
   "cell_type": "markdown",
   "id": "6f04c295-b9f4-42a0-ab76-c55c0f126232",
   "metadata": {},
   "source": [
    "#### How to Declare and set values"
   ]
  },
  {
   "cell_type": "code",
   "execution_count": null,
   "id": "ad076179-71b3-4c4a-a535-1a6c8b655da1",
   "metadata": {},
   "outputs": [],
   "source": [
    "-- Create @ShiftStartTime\n",
    "DECLARE @ShiftStartTime AS time = '08:00 AM'\n",
    "\n",
    "-- Create @StartDate\n",
    "DECLARE @StartDate AS date\n",
    "\n",
    "-- Set StartDate to the first StartDate from CapitalBikeShare\n",
    "SET \n",
    "\t@StartDate = (\n",
    "    \tSELECT TOP 1 StartDate \n",
    "    \tFROM CapitalBikeShare \n",
    "    \tORDER BY StartDate ASC\n",
    "\t\t)\n",
    "\n",
    "-- Create ShiftStartDateTime\n",
    "DECLARE @ShiftStartDateTime AS datetime\n",
    "\n",
    "-- Cast StartDate and ShiftStartTime to datetime data types\n",
    "SET @ShiftStartDateTime = CAST(@StartDate AS datetime) + CAST(@ShiftStartTime AS datetime) \n",
    "\n",
    "SELECT @ShiftStartDateTime"
   ]
  },
  {
   "cell_type": "markdown",
   "id": "b968ee05-4f12-4cb3-9793-9cb804965472",
   "metadata": {
    "tags": []
   },
   "source": [
    "#### DECLARE A TABLE AND STORE VALUES WITHIN "
   ]
  },
  {
   "cell_type": "code",
   "execution_count": null,
   "id": "1e980a72-9801-4241-97c6-67ba776c45cb",
   "metadata": {},
   "outputs": [],
   "source": [
    "-- Declare @Shifts as a TABLE\n",
    "Declare @Shifts TABLE(\n",
    "    -- Create StartDateTime column\n",
    "\tStartDateTime datetime,\n",
    "    -- Create EndDateTime column\n",
    "\tEndDateTime datetime)\n",
    "-- Populate @Shifts\n",
    "INSERT INTO @Shifts (StartDateTime, EndDateTime)\n",
    "\tSELECT '3/1/2018 8:00 AM', '3/1/2018 4:00 PM'\n",
    "SELECT * \n",
    "FROM @Shifts"
   ]
  },
  {
   "cell_type": "markdown",
   "id": "891caf0a-7370-4fe0-aea3-5f045f153c48",
   "metadata": {},
   "source": [
    "#### INSERT INTO @TABLE"
   ]
  },
  {
   "cell_type": "code",
   "execution_count": null,
   "id": "07379f08-7acc-4295-b47b-9912feab796f",
   "metadata": {},
   "outputs": [],
   "source": [
    "-- Declare @RideDates\n",
    "DECLARE @RideDates TABLE(\n",
    "    -- Create RideStart\n",
    "\tRideStart date,\n",
    "    -- Create RideEnd\n",
    "\tRideEnd date)\n",
    "-- Populate @RideDates\n",
    "INSERT INTO @RideDates(RideStart, RideEnd)\n",
    "-- Select the unique date values of StartDate and EndDate\n",
    "SELECT DISTINCT\n",
    "    -- Cast StartDate as date\n",
    "\tCAST(StartDate as date),\n",
    "    -- Cast EndDate as date\n",
    "\tCAST(EndDate as date) \n",
    "FROM CapitalBikeShare \n",
    "SELECT * \n",
    "FROM @RideDates"
   ]
  },
  {
   "cell_type": "markdown",
   "id": "45ecdc8c-a61b-4125-9b6a-46f1578bce6d",
   "metadata": {},
   "source": [
    "#### Get the difference in months between now and 1/1/1900. Add zero to that number"
   ]
  },
  {
   "cell_type": "code",
   "execution_count": null,
   "id": "aede19d5-2dde-48ac-8409-79bbe14fd551",
   "metadata": {},
   "outputs": [],
   "source": [
    "SELECT DATEADD(month, datediff(month, 0, GETDATE()),0 )"
   ]
  },
  {
   "cell_type": "markdown",
   "id": "8812705d-afa1-47fb-a2cc-77f4b8c53cdb",
   "metadata": {},
   "source": [
    "#### New data - Human Resources"
   ]
  },
  {
   "cell_type": "markdown",
   "id": "5325f8d3-9156-4b61-b292-c61b685c4a41",
   "metadata": {
    "tags": []
   },
   "source": [
    "#### Create a stored procedure in MS SQL Server with two parameters FirstName and LastName to select the name from the database"
   ]
  },
  {
   "cell_type": "code",
   "execution_count": null,
   "id": "6579869d-7f86-49d5-84fd-885ba9ae44cb",
   "metadata": {},
   "outputs": [],
   "source": [
    "USE AdventureWorks2014\n",
    "GO\n",
    "\n",
    "CREATE PROCEDURE HumanResources.uspGetEmployeesTest2\n",
    "@LastName nvarchar(50),\n",
    "@FirstName nvarchar(50)\n",
    "AS\n",
    "    SET NOCOUNT ON; #STOPS THE MESSAGE OF NUMBER OF ROWS AFFECTED\n",
    "    SELECT FirstName, LastName, Department\n",
    "    FROM HumanResources.vEmployeeDepartmentHistory\n",
    "    WHERE FirstName = @FirstName AND LastName = @LastName\n",
    "        AND EndDate IS NULL;\n",
    "GO"
   ]
  },
  {
   "cell_type": "markdown",
   "id": "e125e632-99d1-4b44-8679-cf5cf86cd396",
   "metadata": {
    "tags": []
   },
   "source": [
    "#### CALL THE STORED PROCEDURE"
   ]
  },
  {
   "cell_type": "code",
   "execution_count": null,
   "id": "1227ea42-a779-44d3-aba6-ed5579b20751",
   "metadata": {},
   "outputs": [],
   "source": [
    "EXECUTE HumanResources.uspGetEmployeesTest2 N'Ackerman', N'Pilar';\n",
    "EXEC HumanResources.uspGetEmployeesTest2 @LastName = N'Ackerman', @FirstName = N'Pilar';"
   ]
  },
  {
   "cell_type": "markdown",
   "id": "3eedfe9a-b576-4cd6-b761-826f49f5c829",
   "metadata": {},
   "source": [
    "## MySQL Stored Procedures"
   ]
  },
  {
   "cell_type": "code",
   "execution_count": null,
   "id": "e72a9ff9-1a0d-4635-a4dd-8062fc21a655",
   "metadata": {},
   "outputs": [],
   "source": [
    "DROP PROCEDURE IF EXISTS spCheckFruitStock;\n",
    "DELIMITER // #specify delimiter to avoid code break\n",
    "CREATE PROCEDURE SpCheckFruitStock(thisFruit SMALLINT)\n",
    "BEGIN\n",
    "    SELECT\n",
    "        Fruits.Fruit_Id,\n",
    "        Fruits.Fruit_Name,\n",
    "        Fruits.Inventory,\n",
    "        Units.Unit_Name\n",
    "    FROM \n",
    "        Fruits INNER JOIN Units ON\n",
    "        Fruits.Unit_Id = Units.Unit_Id\n",
    "    WHERE \n",
    "        Fruits.Fruit_Id = thisFruit;\n",
    "END //\n",
    "\n",
    "DELIMITER ; #reset delimiter"
   ]
  },
  {
   "cell_type": "markdown",
   "id": "4cbce47f-f95d-47e0-9684-312554101a49",
   "metadata": {},
   "source": [
    "#### Call MySQL Stored Procedure"
   ]
  },
  {
   "cell_type": "code",
   "execution_count": null,
   "id": "42ab7cb2-d16f-4da4-835c-5f092ec0c17c",
   "metadata": {},
   "outputs": [],
   "source": [
    "CALL spCheckFruitStock(1);"
   ]
  },
  {
   "cell_type": "markdown",
   "id": "8ba0f543-af4b-4d36-bb27-c92e6331b99f",
   "metadata": {},
   "source": [
    "#### More advanced MySQL Stored Procedure"
   ]
  },
  {
   "cell_type": "code",
   "execution_count": null,
   "id": "868c63d6-b5b9-4372-8f07-54cbe4ec342a",
   "metadata": {},
   "outputs": [],
   "source": [
    "DROP PROCEDURE IF EXISTS spCheckFruitStockLevel;\n",
    "\n",
    "DELIMITER //\n",
    "\n",
    "CREATE PROCEDURE spCheckFruitStockLevel(\n",
    "            IN pFruit_Id SMALLINT(5)\n",
    "            OUT PstockLevel VARCHAR(6) \n",
    "                )\n",
    "BEGIN\n",
    "    DECLARE stockNumber SMALLINT;\n",
    "    SELECT \n",
    "        Fruits.Inventory into stockNumber\n",
    "    FROM \n",
    "        Fruits INNER JOIN Units ON\n",
    "        Fruits.Unit_Id = Units.Unit_Id\n",
    "    WHERE \n",
    "        Fruits.Fruit_Id = pFruit_Id\n",
    "    \n",
    "    IF stockNumber > 10 THEN\n",
    "        SET pStockLevel = 'High';\n",
    "    ELSEIF (stockNumber <=10 AND stockNumber >=5) THEN\n",
    "        SET pStockLevel = 'Medium';\n",
    "    ELSEIF (stockNumber <5) THEN\n",
    "        SET pStockLevel = 'Low - Please Replace Now!';\n",
    "    END IF;\n",
    "    \n",
    "END //\n",
    "DELIMITER;"
   ]
  },
  {
   "cell_type": "code",
   "execution_count": null,
   "id": "f0b46445-3c45-4210-8c82-4bc4c018e32b",
   "metadata": {},
   "outputs": [],
   "source": [
    "CALL SpCheckFruitStockLevel(1, @stockLevel);\n",
    "SELECT @stockLevel;"
   ]
  }
 ],
 "metadata": {
  "kernelspec": {
   "display_name": "Python 3 (ipykernel)",
   "language": "python",
   "name": "python3"
  },
  "language_info": {
   "codemirror_mode": {
    "name": "ipython",
    "version": 3
   },
   "file_extension": ".py",
   "mimetype": "text/x-python",
   "name": "python",
   "nbconvert_exporter": "python",
   "pygments_lexer": "ipython3",
   "version": "3.9.7"
  }
 },
 "nbformat": 4,
 "nbformat_minor": 5
}
